{
 "cells": [
  {
   "cell_type": "code",
   "execution_count": 46,
   "metadata": {},
   "outputs": [
    {
     "ename": "AssertionError",
     "evalue": "{\"version\":\"634\",\"hash\":\"0xe223f4ea31d5301436a049e98b5f6b4d508e0bc4deb92f665bbd9a38824bc606\",\"state_change_hash\":\"0xec67f56f982e709ac6124a732155d3a620381f19517108d37ee4523c9220f801\",\"event_root_hash\":\"0x414343554d554c41544f525f504c414345484f4c4445525f4841534800000000\",\"state_checkpoint_hash\":null,\"gas_used\":\"188\",\"success\":false,\"vm_status\":\"Move abort in 0x1::cross_vm: 0x2\",\"accumulator_root_hash\":\"0x1e789bd921721012802e73de6daa209921222140de05dcdd8727a5b5cb6f994e\",\"changes\":[{\"address\":\"0x5f61e930582ca112420399eaac4d224aba550789bd31dbe3d8835abac4267b06\",\"state_key_hash\":\"0x913120c28cd45f37a263a4f6184cc240801164124c2c7e3972568cb498c923c6\",\"data\":{\"type\":\"0x1::coin::CoinStore<0x1::aptos_coin::AptosCoin>\",\"data\":{\"coin\":{\"value\":\"99261000\"},\"deposit_events\":{\"counter\":\"1\",\"guid\":{\"id\":{\"addr\":\"0x5f61e930582ca112420399eaac4d224aba550789bd31dbe3d8835abac4267b06\",\"creation_num\":\"2\"}}},\"frozen\":false,\"withdraw_events\":{\"counter\":\"0\",\"guid\":{\"id\":{\"addr\":\"0x5f61e930582ca112420399eaac4d224aba550789bd31dbe3d8835abac4267b06\",\"creation_num\":\"3\"}}}}},\"type\":\"write_resource\"},{\"address\":\"0x5f61e930582ca112420399eaac4d224aba550789bd31dbe3d8835abac4267b06\",\"state_key_hash\":\"0x8d04621a5be3107e8ef84b071897fc20684d659420858f1719a0107a4cd64ba1\",\"data\":{\"type\":\"0x1::account::Account\",\"data\":{\"authentication_key\":\"0x5f61e930582ca112420399eaac4d224aba550789bd31dbe3d8835abac4267b06\",\"coin_register_events\":{\"counter\":\"1\",\"guid\":{\"id\":{\"addr\":\"0x5f61e930582ca112420399eaac4d224aba550789bd31dbe3d8835abac4267b06\",\"creation_num\":\"0\"}}},\"guid_creation_num\":\"4\",\"key_rotation_events\":{\"counter\":\"0\",\"guid\":{\"id\":{\"addr\":\"0x5f61e930582ca112420399eaac4d224aba550789bd31dbe3d8835abac4267b06\",\"creation_num\":\"1\"}}},\"rotation_capability_offer\":{\"for\":{\"vec\":[]}},\"sequence_number\":\"2\",\"signer_capability_offer\":{\"for\":{\"vec\":[]}}}},\"type\":\"write_resource\"},{\"state_key_hash\":\"0x6e4b28d40f98a106a65163530924c0dcb40c1349d3aa915d108b4d6cfc1ddb19\",\"handle\":\"0x1b854694ae746cdbd8d44186ca4929b2b337df21d1c74633be19b2710552fdca\",\"key\":\"0x0619dc29a0aac8fa146714058e8dd6d2d0f3bdf5f6331907bf91f3acd81e6935\",\"value\":\"0xb051e405000000000100000000000000\",\"data\":null,\"type\":\"write_table_item\"}],\"sender\":\"0x5f61e930582ca112420399eaac4d224aba550789bd31dbe3d8835abac4267b06\",\"sequence_number\":\"1\",\"max_gas_amount\":\"100000\",\"gas_unit_price\":\"100\",\"expiration_timestamp_secs\":\"1676465037\",\"payload\":{\"function\":\"0x5f61e930582ca112420399eaac4d224aba550789bd31dbe3d8835abac4267b06::caller::call\",\"type_arguments\":[],\"arguments\":[],\"type\":\"entry_function_payload\"},\"signature\":{\"public_key\":\"0x26ee560b96984d602e6fc36586c6cf4ce2e1d4bb85a8bda2486d6cbcce17d773\",\"signature\":\"0xa8b0f9d016462a1f6cde0262a17d2802a7faa1e51101ec753f6048ecd32055b062411e6345184f0fecfa212a30d536f982f77b126732ec3c9d862c58999a3709\",\"type\":\"ed25519_signature\"},\"events\":[],\"timestamp\":\"1676464437929611\",\"type\":\"user_transaction\"} - 0xe223f4ea31d5301436a049e98b5f6b4d508e0bc4deb92f665bbd9a38824bc606",
     "output_type": "error",
     "traceback": [
      "\u001b[0;31m---------------------------------------------------------------------------\u001b[0m",
      "\u001b[0;31mAssertionError\u001b[0m                            Traceback (most recent call last)",
      "\u001b[0;32m<ipython-input-46-3cf653a582ce>\u001b[0m in \u001b[0;36m<module>\u001b[0;34m\u001b[0m\n\u001b[1;32m     10\u001b[0m \u001b[0mtx\u001b[0m \u001b[0;34m=\u001b[0m \u001b[0mrest_client\u001b[0m\u001b[0;34m.\u001b[0m\u001b[0mcreate_bcs_signed_transaction\u001b[0m\u001b[0;34m(\u001b[0m\u001b[0mcli_account\u001b[0m\u001b[0;34m,\u001b[0m \u001b[0mTransactionPayload\u001b[0m\u001b[0;34m(\u001b[0m\u001b[0mpayload\u001b[0m\u001b[0;34m)\u001b[0m\u001b[0;34m)\u001b[0m\u001b[0;34m\u001b[0m\u001b[0;34m\u001b[0m\u001b[0m\n\u001b[1;32m     11\u001b[0m \u001b[0mtx_hash\u001b[0m \u001b[0;34m=\u001b[0m \u001b[0mrest_client\u001b[0m\u001b[0;34m.\u001b[0m\u001b[0msubmit_bcs_transaction\u001b[0m\u001b[0;34m(\u001b[0m\u001b[0mtx\u001b[0m\u001b[0;34m)\u001b[0m\u001b[0;34m\u001b[0m\u001b[0;34m\u001b[0m\u001b[0m\n\u001b[0;32m---> 12\u001b[0;31m \u001b[0mrest_client\u001b[0m\u001b[0;34m.\u001b[0m\u001b[0mwait_for_transaction\u001b[0m\u001b[0;34m(\u001b[0m\u001b[0mtx_hash\u001b[0m\u001b[0;34m)\u001b[0m\u001b[0;34m\u001b[0m\u001b[0;34m\u001b[0m\u001b[0m\n\u001b[0m",
      "\u001b[0;32m~/.local/lib/python3.9/site-packages/aptos_sdk-0.5.0-py3.9.egg/aptos_sdk/client.py\u001b[0m in \u001b[0;36mwait_for_transaction\u001b[0;34m(self, txn_hash)\u001b[0m\n\u001b[1;32m    283\u001b[0m             \u001b[0mcount\u001b[0m \u001b[0;34m+=\u001b[0m \u001b[0;36m1\u001b[0m\u001b[0;34m\u001b[0m\u001b[0;34m\u001b[0m\u001b[0m\n\u001b[1;32m    284\u001b[0m         \u001b[0mresponse\u001b[0m \u001b[0;34m=\u001b[0m \u001b[0mself\u001b[0m\u001b[0;34m.\u001b[0m\u001b[0mclient\u001b[0m\u001b[0;34m.\u001b[0m\u001b[0mget\u001b[0m\u001b[0;34m(\u001b[0m\u001b[0;34mf\"{self.base_url}/transactions/by_hash/{txn_hash}\"\u001b[0m\u001b[0;34m)\u001b[0m\u001b[0;34m\u001b[0m\u001b[0;34m\u001b[0m\u001b[0m\n\u001b[0;32m--> 285\u001b[0;31m         assert (\n\u001b[0m\u001b[1;32m    286\u001b[0m             \u001b[0;34m\"success\"\u001b[0m \u001b[0;32min\u001b[0m \u001b[0mresponse\u001b[0m\u001b[0;34m.\u001b[0m\u001b[0mjson\u001b[0m\u001b[0;34m(\u001b[0m\u001b[0;34m)\u001b[0m \u001b[0;32mand\u001b[0m \u001b[0mresponse\u001b[0m\u001b[0;34m.\u001b[0m\u001b[0mjson\u001b[0m\u001b[0;34m(\u001b[0m\u001b[0;34m)\u001b[0m\u001b[0;34m[\u001b[0m\u001b[0;34m\"success\"\u001b[0m\u001b[0;34m]\u001b[0m\u001b[0;34m\u001b[0m\u001b[0;34m\u001b[0m\u001b[0m\n\u001b[1;32m    287\u001b[0m         ), f\"{response.text} - {txn_hash}\"\n",
      "\u001b[0;31mAssertionError\u001b[0m: {\"version\":\"634\",\"hash\":\"0xe223f4ea31d5301436a049e98b5f6b4d508e0bc4deb92f665bbd9a38824bc606\",\"state_change_hash\":\"0xec67f56f982e709ac6124a732155d3a620381f19517108d37ee4523c9220f801\",\"event_root_hash\":\"0x414343554d554c41544f525f504c414345484f4c4445525f4841534800000000\",\"state_checkpoint_hash\":null,\"gas_used\":\"188\",\"success\":false,\"vm_status\":\"Move abort in 0x1::cross_vm: 0x2\",\"accumulator_root_hash\":\"0x1e789bd921721012802e73de6daa209921222140de05dcdd8727a5b5cb6f994e\",\"changes\":[{\"address\":\"0x5f61e930582ca112420399eaac4d224aba550789bd31dbe3d8835abac4267b06\",\"state_key_hash\":\"0x913120c28cd45f37a263a4f6184cc240801164124c2c7e3972568cb498c923c6\",\"data\":{\"type\":\"0x1::coin::CoinStore<0x1::aptos_coin::AptosCoin>\",\"data\":{\"coin\":{\"value\":\"99261000\"},\"deposit_events\":{\"counter\":\"1\",\"guid\":{\"id\":{\"addr\":\"0x5f61e930582ca112420399eaac4d224aba550789bd31dbe3d8835abac4267b06\",\"creation_num\":\"2\"}}},\"frozen\":false,\"withdraw_events\":{\"counter\":\"0\",\"guid\":{\"id\":{\"addr\":\"0x5f61e930582ca112420399eaac4d224aba550789bd31dbe3d8835abac4267b06\",\"creation_num\":\"3\"}}}}},\"type\":\"write_resource\"},{\"address\":\"0x5f61e930582ca112420399eaac4d224aba550789bd31dbe3d8835abac4267b06\",\"state_key_hash\":\"0x8d04621a5be3107e8ef84b071897fc20684d659420858f1719a0107a4cd64ba1\",\"data\":{\"type\":\"0x1::account::Account\",\"data\":{\"authentication_key\":\"0x5f61e930582ca112420399eaac4d224aba550789bd31dbe3d8835abac4267b06\",\"coin_register_events\":{\"counter\":\"1\",\"guid\":{\"id\":{\"addr\":\"0x5f61e930582ca112420399eaac4d224aba550789bd31dbe3d8835abac4267b06\",\"creation_num\":\"0\"}}},\"guid_creation_num\":\"4\",\"key_rotation_events\":{\"counter\":\"0\",\"guid\":{\"id\":{\"addr\":\"0x5f61e930582ca112420399eaac4d224aba550789bd31dbe3d8835abac4267b06\",\"creation_num\":\"1\"}}},\"rotation_capability_offer\":{\"for\":{\"vec\":[]}},\"sequence_number\":\"2\",\"signer_capability_offer\":{\"for\":{\"vec\":[]}}}},\"type\":\"write_resource\"},{\"state_key_hash\":\"0x6e4b28d40f98a106a65163530924c0dcb40c1349d3aa915d108b4d6cfc1ddb19\",\"handle\":\"0x1b854694ae746cdbd8d44186ca4929b2b337df21d1c74633be19b2710552fdca\",\"key\":\"0x0619dc29a0aac8fa146714058e8dd6d2d0f3bdf5f6331907bf91f3acd81e6935\",\"value\":\"0xb051e405000000000100000000000000\",\"data\":null,\"type\":\"write_table_item\"}],\"sender\":\"0x5f61e930582ca112420399eaac4d224aba550789bd31dbe3d8835abac4267b06\",\"sequence_number\":\"1\",\"max_gas_amount\":\"100000\",\"gas_unit_price\":\"100\",\"expiration_timestamp_secs\":\"1676465037\",\"payload\":{\"function\":\"0x5f61e930582ca112420399eaac4d224aba550789bd31dbe3d8835abac4267b06::caller::call\",\"type_arguments\":[],\"arguments\":[],\"type\":\"entry_function_payload\"},\"signature\":{\"public_key\":\"0x26ee560b96984d602e6fc36586c6cf4ce2e1d4bb85a8bda2486d6cbcce17d773\",\"signature\":\"0xa8b0f9d016462a1f6cde0262a17d2802a7faa1e51101ec753f6048ecd32055b062411e6345184f0fecfa212a30d536f982f77b126732ec3c9d862c58999a3709\",\"type\":\"ed25519_signature\"},\"events\":[],\"timestamp\":\"1676464437929611\",\"type\":\"user_transaction\"} - 0xe223f4ea31d5301436a049e98b5f6b4d508e0bc4deb92f665bbd9a38824bc606"
     ]
    }
   ],
   "source": [
    "from common import rest_client, test_account, cli_account\n",
    "from aptos_sdk.transactions import EntryFunction, TransactionArgument, TransactionPayload\n",
    "from aptos_sdk.bcs import Serializer\n",
    "\n",
    "payload = EntryFunction.natural(\n",
    "            f\"0x5f61e930582ca112420399eaac4d224aba550789bd31dbe3d8835abac4267b06::caller\",\n",
    "            \"call\",\n",
    "            [],\n",
    "            [])\n",
    "tx = rest_client.create_bcs_signed_transaction(cli_account, TransactionPayload(payload))\n",
    "tx_hash = rest_client.submit_bcs_transaction(tx)\n",
    "rest_client.wait_for_transaction(tx_hash)"
   ]
  },
  {
   "cell_type": "code",
   "execution_count": null,
   "metadata": {},
   "outputs": [],
   "source": []
  }
 ],
 "metadata": {
  "kernelspec": {
   "display_name": "base",
   "language": "python",
   "name": "python3"
  },
  "language_info": {
   "codemirror_mode": {
    "name": "ipython",
    "version": 3
   },
   "file_extension": ".py",
   "mimetype": "text/x-python",
   "name": "python",
   "nbconvert_exporter": "python",
   "pygments_lexer": "ipython3",
   "version": "3.9.4"
  },
  "orig_nbformat": 4,
  "vscode": {
   "interpreter": {
    "hash": "12d18a2ef8879dccea5e22ea67cf891eed791d313bd003abe520454916b7380b"
   }
  }
 },
 "nbformat": 4,
 "nbformat_minor": 2
}
